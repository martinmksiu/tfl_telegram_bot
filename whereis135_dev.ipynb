{
 "cells": [
  {
   "cell_type": "code",
   "execution_count": 1,
   "metadata": {},
   "outputs": [],
   "source": [
    "import telegram\n",
    "from telegram.ext import Updater, CommandHandler"
   ]
  },
  {
   "cell_type": "code",
   "execution_count": 2,
   "metadata": {},
   "outputs": [],
   "source": [
    "mytoken = '555401135:AAHXSxaTvNVYmJahVDrA2xTuvLekxO07pkU'"
   ]
  },
  {
   "cell_type": "code",
   "execution_count": 3,
   "metadata": {},
   "outputs": [],
   "source": [
    "updater = Updater(token = mytoken)\n",
    "dispatcher = updater.dispatcher"
   ]
  },
  {
   "cell_type": "code",
   "execution_count": 10,
   "metadata": {},
   "outputs": [],
   "source": [
    "import pandas as pd\n",
    "pd.set_option('display.max_columns', None)"
   ]
  },
  {
   "cell_type": "code",
   "execution_count": null,
   "metadata": {},
   "outputs": [],
   "source": [
    "def start(bot, update):\n",
    "    Data = pd.read_json('https://api.tfl.gov.uk/StopPoint/490015193S/Arrivals')\n",
    "    L = Data.sort_values('timeToStation').reset_index().timeToStation\n",
    "    a = 'Time to next bus: %.0fm%.0fs, %.0fm%.0fs' % (L[0]//60, L[0]%60, L[1]//60, L[1]%60)\n",
    "    bot.send_message(chat_id = update.message.chat_id, text = a)"
   ]
  },
  {
   "cell_type": "code",
   "execution_count": null,
   "metadata": {},
   "outputs": [],
   "source": [
    "start_handler = CommandHandler('start', start)\n",
    "dispatcher.add_handler(start_handler)"
   ]
  },
  {
   "cell_type": "code",
   "execution_count": null,
   "metadata": {},
   "outputs": [],
   "source": [
    "updater.start_polling()"
   ]
  },
  {
   "cell_type": "code",
   "execution_count": 5,
   "metadata": {},
   "outputs": [],
   "source": [
    "Data = pd.read_json('https://api.tfl.gov.uk/StopPoint/490015193S/Arrivals')\n",
    "L = Data.sort_values('timeToStation').reset_index().timeToStation\n",
    "a = 'Time to next bus: %.0fm%.0fs, %.0fm%.0fs' % (L[0]//60, L[0]%60, L[1]//60, L[1]%60)\n"
   ]
  },
  {
   "cell_type": "code",
   "execution_count": 6,
   "metadata": {},
   "outputs": [
    {
     "data": {
      "text/html": [
       "<div>\n",
       "<style scoped>\n",
       "    .dataframe tbody tr th:only-of-type {\n",
       "        vertical-align: middle;\n",
       "    }\n",
       "\n",
       "    .dataframe tbody tr th {\n",
       "        vertical-align: top;\n",
       "    }\n",
       "\n",
       "    .dataframe thead th {\n",
       "        text-align: right;\n",
       "    }\n",
       "</style>\n",
       "<table border=\"1\" class=\"dataframe\">\n",
       "  <thead>\n",
       "    <tr style=\"text-align: right;\">\n",
       "      <th></th>\n",
       "      <th>$type</th>\n",
       "      <th>bearing</th>\n",
       "      <th>currentLocation</th>\n",
       "      <th>destinationName</th>\n",
       "      <th>destinationNaptanId</th>\n",
       "      <th>direction</th>\n",
       "      <th>expectedArrival</th>\n",
       "      <th>id</th>\n",
       "      <th>lineId</th>\n",
       "      <th>lineName</th>\n",
       "      <th>...</th>\n",
       "      <th>naptanId</th>\n",
       "      <th>operationType</th>\n",
       "      <th>platformName</th>\n",
       "      <th>stationName</th>\n",
       "      <th>timeToLive</th>\n",
       "      <th>timeToStation</th>\n",
       "      <th>timestamp</th>\n",
       "      <th>timing</th>\n",
       "      <th>towards</th>\n",
       "      <th>vehicleId</th>\n",
       "    </tr>\n",
       "  </thead>\n",
       "  <tbody>\n",
       "    <tr>\n",
       "      <th>0</th>\n",
       "      <td>Tfl.Api.Presentation.Entities.Prediction, Tfl....</td>\n",
       "      <td>172</td>\n",
       "      <td></td>\n",
       "      <td>Crossharbour</td>\n",
       "      <td></td>\n",
       "      <td>inbound</td>\n",
       "      <td>2018-03-11T00:30:30Z</td>\n",
       "      <td>85763117</td>\n",
       "      <td>135</td>\n",
       "      <td>135</td>\n",
       "      <td>...</td>\n",
       "      <td>490015193S</td>\n",
       "      <td>1</td>\n",
       "      <td>B</td>\n",
       "      <td>Old Street Station</td>\n",
       "      <td>2018-03-11T00:31:00Z</td>\n",
       "      <td>1515</td>\n",
       "      <td>2018-03-11 00:05:15</td>\n",
       "      <td>{'$type': 'Tfl.Api.Presentation.Entities.Predi...</td>\n",
       "      <td>Liverpool Street Station</td>\n",
       "      <td>BL15HBP</td>\n",
       "    </tr>\n",
       "    <tr>\n",
       "      <th>1</th>\n",
       "      <td>Tfl.Api.Presentation.Entities.Prediction, Tfl....</td>\n",
       "      <td>172</td>\n",
       "      <td></td>\n",
       "      <td>Crossharbour</td>\n",
       "      <td></td>\n",
       "      <td>inbound</td>\n",
       "      <td>2018-03-11T00:15:30Z</td>\n",
       "      <td>-1280248722</td>\n",
       "      <td>135</td>\n",
       "      <td>135</td>\n",
       "      <td>...</td>\n",
       "      <td>490015193S</td>\n",
       "      <td>1</td>\n",
       "      <td>B</td>\n",
       "      <td>Old Street Station</td>\n",
       "      <td>2018-03-11T00:16:00Z</td>\n",
       "      <td>615</td>\n",
       "      <td>2018-03-11 00:05:15</td>\n",
       "      <td>{'$type': 'Tfl.Api.Presentation.Entities.Predi...</td>\n",
       "      <td>Liverpool Street Station</td>\n",
       "      <td>BL15HBY</td>\n",
       "    </tr>\n",
       "  </tbody>\n",
       "</table>\n",
       "<p>2 rows × 21 columns</p>\n",
       "</div>"
      ],
      "text/plain": [
       "                                               $type  bearing currentLocation  \\\n",
       "0  Tfl.Api.Presentation.Entities.Prediction, Tfl....      172                   \n",
       "1  Tfl.Api.Presentation.Entities.Prediction, Tfl....      172                   \n",
       "\n",
       "  destinationName destinationNaptanId direction       expectedArrival  \\\n",
       "0    Crossharbour                       inbound  2018-03-11T00:30:30Z   \n",
       "1    Crossharbour                       inbound  2018-03-11T00:15:30Z   \n",
       "\n",
       "           id  lineId  lineName    ...       naptanId operationType  \\\n",
       "0    85763117     135       135    ...     490015193S             1   \n",
       "1 -1280248722     135       135    ...     490015193S             1   \n",
       "\n",
       "   platformName         stationName            timeToLive timeToStation  \\\n",
       "0             B  Old Street Station  2018-03-11T00:31:00Z          1515   \n",
       "1             B  Old Street Station  2018-03-11T00:16:00Z           615   \n",
       "\n",
       "            timestamp                                             timing  \\\n",
       "0 2018-03-11 00:05:15  {'$type': 'Tfl.Api.Presentation.Entities.Predi...   \n",
       "1 2018-03-11 00:05:15  {'$type': 'Tfl.Api.Presentation.Entities.Predi...   \n",
       "\n",
       "                    towards vehicleId  \n",
       "0  Liverpool Street Station   BL15HBP  \n",
       "1  Liverpool Street Station   BL15HBY  \n",
       "\n",
       "[2 rows x 21 columns]"
      ]
     },
     "execution_count": 6,
     "metadata": {},
     "output_type": "execute_result"
    }
   ],
   "source": [
    "Data"
   ]
  },
  {
   "cell_type": "code",
   "execution_count": 7,
   "metadata": {},
   "outputs": [
    {
     "data": {
      "text/plain": [
       "'Time to next bus: 10m15s, 25m15s'"
      ]
     },
     "execution_count": 7,
     "metadata": {},
     "output_type": "execute_result"
    }
   ],
   "source": [
    "a"
   ]
  },
  {
   "cell_type": "code",
   "execution_count": 9,
   "metadata": {},
   "outputs": [
    {
     "data": {
      "text/plain": [
       "2"
      ]
     },
     "execution_count": 9,
     "metadata": {},
     "output_type": "execute_result"
    }
   ],
   "source": [
    "L.shape[0]"
   ]
  },
  {
   "cell_type": "code",
   "execution_count": 10,
   "metadata": {},
   "outputs": [],
   "source": [
    "if L.shape[0] == 1:\n",
    "    a = 'Time to next bus: %.0fm%.0fs' % (L[0]//60, L[0]%60)\n",
    "elif L.shape[0] == 0:\n",
    "    a = 'No bus coming. Take Uber perhaps?'\n",
    "else:\n",
    "    a = 'Time to next bus: %.0fm%.0fs, %.0fm%.0fs' % (L[0]//60, L[0]%60, L[1]//60, L[1]%60)"
   ]
  },
  {
   "cell_type": "code",
   "execution_count": 11,
   "metadata": {},
   "outputs": [
    {
     "data": {
      "text/plain": [
       "'Time to next bus: 10m15s, 25m15s'"
      ]
     },
     "execution_count": 11,
     "metadata": {},
     "output_type": "execute_result"
    }
   ],
   "source": [
    "a"
   ]
  },
  {
   "cell_type": "code",
   "execution_count": null,
   "metadata": {},
   "outputs": [],
   "source": [
    "https://api.tfl.gov.uk/StopPoint/490009545N/Arrivals"
   ]
  },
  {
   "cell_type": "code",
   "execution_count": null,
   "metadata": {},
   "outputs": [],
   "source": [
    "def start(bot, update):\n",
    "    Data = pd.read_json('https://api.tfl.gov.uk/StopPoint/490015193S/Arrivals')\n",
    "    L = Data.sort_values('timeToStation').reset_index().timeToStation\n",
    "    a = 'Time to next bus: %.0fm%.0fs, %.0fm%.0fs' % (L[0]//60, L[0]%60, L[1]//60, L[1]%60)\n",
    "    bot.send_message(chat_id = update.message.chat_id, text = a)"
   ]
  },
  {
   "cell_type": "code",
   "execution_count": 14,
   "metadata": {},
   "outputs": [],
   "source": [
    "Data = pd.read_json('https://api.tfl.gov.uk/Line/jubilee/Arrivals/940GZZLUCYF?direction=all')"
   ]
  },
  {
   "cell_type": "code",
   "execution_count": 15,
   "metadata": {
    "scrolled": true
   },
   "outputs": [
    {
     "data": {
      "text/plain": [
       "0      186\n",
       "1      246\n",
       "2      336\n",
       "3      396\n",
       "4      456\n",
       "5      456\n",
       "6      576\n",
       "7      696\n",
       "8      696\n",
       "9      816\n",
       "10     996\n",
       "11    1116\n",
       "12    1295\n",
       "13    1475\n",
       "14    1595\n",
       "15    1775\n",
       "Name: timeToStation, dtype: int64"
      ]
     },
     "execution_count": 15,
     "metadata": {},
     "output_type": "execute_result"
    }
   ],
   "source": [
    "Data.sort_values('timeToStation').reset_index().timeToStation"
   ]
  },
  {
   "cell_type": "code",
   "execution_count": 18,
   "metadata": {},
   "outputs": [
    {
     "data": {
      "text/plain": [
       "direction\n",
       "inbound      4\n",
       "outbound    12\n",
       "dtype: int64"
      ]
     },
     "execution_count": 18,
     "metadata": {},
     "output_type": "execute_result"
    }
   ],
   "source": [
    "Data.groupby('direction').size()"
   ]
  },
  {
   "cell_type": "code",
   "execution_count": 23,
   "metadata": {},
   "outputs": [
    {
     "data": {
      "text/plain": [
       "towards\n",
       "Stanmore        3\n",
       "Wembley Park    1\n",
       "dtype: int64"
      ]
     },
     "execution_count": 23,
     "metadata": {},
     "output_type": "execute_result"
    }
   ],
   "source": [
    "Data.loc[Data.direction == 'inbound'].groupby('towards').size()"
   ]
  },
  {
   "cell_type": "code",
   "execution_count": 22,
   "metadata": {},
   "outputs": [
    {
     "data": {
      "text/plain": [
       "towards\n",
       "North Greenwich     2\n",
       "Stratford          10\n",
       "dtype: int64"
      ]
     },
     "execution_count": 22,
     "metadata": {},
     "output_type": "execute_result"
    }
   ],
   "source": [
    "Data.loc[Data.direction == 'outbound'].groupby('towards').size()"
   ]
  },
  {
   "cell_type": "code",
   "execution_count": 24,
   "metadata": {},
   "outputs": [
    {
     "data": {
      "text/html": [
       "<div>\n",
       "<style scoped>\n",
       "    .dataframe tbody tr th:only-of-type {\n",
       "        vertical-align: middle;\n",
       "    }\n",
       "\n",
       "    .dataframe tbody tr th {\n",
       "        vertical-align: top;\n",
       "    }\n",
       "\n",
       "    .dataframe thead th {\n",
       "        text-align: right;\n",
       "    }\n",
       "</style>\n",
       "<table border=\"1\" class=\"dataframe\">\n",
       "  <thead>\n",
       "    <tr style=\"text-align: right;\">\n",
       "      <th></th>\n",
       "      <th>$type</th>\n",
       "      <th>bearing</th>\n",
       "      <th>currentLocation</th>\n",
       "      <th>destinationName</th>\n",
       "      <th>destinationNaptanId</th>\n",
       "      <th>direction</th>\n",
       "      <th>expectedArrival</th>\n",
       "      <th>id</th>\n",
       "      <th>lineId</th>\n",
       "      <th>lineName</th>\n",
       "      <th>modeName</th>\n",
       "      <th>naptanId</th>\n",
       "      <th>operationType</th>\n",
       "      <th>platformName</th>\n",
       "      <th>stationName</th>\n",
       "      <th>timeToLive</th>\n",
       "      <th>timeToStation</th>\n",
       "      <th>timestamp</th>\n",
       "      <th>timing</th>\n",
       "      <th>towards</th>\n",
       "      <th>vehicleId</th>\n",
       "    </tr>\n",
       "  </thead>\n",
       "  <tbody>\n",
       "    <tr>\n",
       "      <th>0</th>\n",
       "      <td>Tfl.Api.Presentation.Entities.Prediction, Tfl....</td>\n",
       "      <td></td>\n",
       "      <td>At Finchley Road Platform 3</td>\n",
       "      <td>Stratford Underground Station</td>\n",
       "      <td>940GZZLUSTD</td>\n",
       "      <td>outbound</td>\n",
       "      <td>2018-03-11T12:27:30Z</td>\n",
       "      <td>1556401543</td>\n",
       "      <td>jubilee</td>\n",
       "      <td>Jubilee</td>\n",
       "      <td>tube</td>\n",
       "      <td>940GZZLUCYF</td>\n",
       "      <td>1</td>\n",
       "      <td>Eastbound - Platform 2</td>\n",
       "      <td>Canary Wharf Underground Station</td>\n",
       "      <td>2018-03-11T12:27:30Z</td>\n",
       "      <td>1595</td>\n",
       "      <td>2018-03-11 12:00:55</td>\n",
       "      <td>{'$type': 'Tfl.Api.Presentation.Entities.Predi...</td>\n",
       "      <td>Stratford</td>\n",
       "      <td>300</td>\n",
       "    </tr>\n",
       "    <tr>\n",
       "      <th>1</th>\n",
       "      <td>Tfl.Api.Presentation.Entities.Prediction, Tfl....</td>\n",
       "      <td></td>\n",
       "      <td>At Westminster Platform 3</td>\n",
       "      <td>Stratford Underground Station</td>\n",
       "      <td>940GZZLUSTD</td>\n",
       "      <td>outbound</td>\n",
       "      <td>2018-03-11T12:12:31Z</td>\n",
       "      <td>387308285</td>\n",
       "      <td>jubilee</td>\n",
       "      <td>Jubilee</td>\n",
       "      <td>tube</td>\n",
       "      <td>940GZZLUCYF</td>\n",
       "      <td>1</td>\n",
       "      <td>Eastbound - Platform 2</td>\n",
       "      <td>Canary Wharf Underground Station</td>\n",
       "      <td>2018-03-11T12:12:31Z</td>\n",
       "      <td>696</td>\n",
       "      <td>2018-03-11 12:00:55</td>\n",
       "      <td>{'$type': 'Tfl.Api.Presentation.Entities.Predi...</td>\n",
       "      <td>Stratford</td>\n",
       "      <td>302</td>\n",
       "    </tr>\n",
       "    <tr>\n",
       "      <th>2</th>\n",
       "      <td>Tfl.Api.Presentation.Entities.Prediction, Tfl....</td>\n",
       "      <td></td>\n",
       "      <td>Between Waterloo and Southwark</td>\n",
       "      <td>Stratford Underground Station</td>\n",
       "      <td>940GZZLUSTD</td>\n",
       "      <td>outbound</td>\n",
       "      <td>2018-03-11T12:10:31Z</td>\n",
       "      <td>252642446</td>\n",
       "      <td>jubilee</td>\n",
       "      <td>Jubilee</td>\n",
       "      <td>tube</td>\n",
       "      <td>940GZZLUCYF</td>\n",
       "      <td>1</td>\n",
       "      <td>Eastbound - Platform 2</td>\n",
       "      <td>Canary Wharf Underground Station</td>\n",
       "      <td>2018-03-11T12:10:31Z</td>\n",
       "      <td>576</td>\n",
       "      <td>2018-03-11 12:00:55</td>\n",
       "      <td>{'$type': 'Tfl.Api.Presentation.Entities.Predi...</td>\n",
       "      <td>Stratford</td>\n",
       "      <td>305</td>\n",
       "    </tr>\n",
       "    <tr>\n",
       "      <th>3</th>\n",
       "      <td>Tfl.Api.Presentation.Entities.Prediction, Tfl....</td>\n",
       "      <td></td>\n",
       "      <td>Between Baker Street and Bond Street</td>\n",
       "      <td>Stratford Underground Station</td>\n",
       "      <td>940GZZLUSTD</td>\n",
       "      <td>outbound</td>\n",
       "      <td>2018-03-11T12:19:31Z</td>\n",
       "      <td>-1034936892</td>\n",
       "      <td>jubilee</td>\n",
       "      <td>Jubilee</td>\n",
       "      <td>tube</td>\n",
       "      <td>940GZZLUCYF</td>\n",
       "      <td>1</td>\n",
       "      <td>Eastbound - Platform 2</td>\n",
       "      <td>Canary Wharf Underground Station</td>\n",
       "      <td>2018-03-11T12:19:31Z</td>\n",
       "      <td>1116</td>\n",
       "      <td>2018-03-11 12:00:55</td>\n",
       "      <td>{'$type': 'Tfl.Api.Presentation.Entities.Predi...</td>\n",
       "      <td>Stratford</td>\n",
       "      <td>307</td>\n",
       "    </tr>\n",
       "    <tr>\n",
       "      <th>4</th>\n",
       "      <td>Tfl.Api.Presentation.Entities.Prediction, Tfl....</td>\n",
       "      <td></td>\n",
       "      <td>Approaching Bermondsey</td>\n",
       "      <td>Stratford Underground Station</td>\n",
       "      <td>940GZZLUSTD</td>\n",
       "      <td>outbound</td>\n",
       "      <td>2018-03-11T12:06:31Z</td>\n",
       "      <td>251659406</td>\n",
       "      <td>jubilee</td>\n",
       "      <td>Jubilee</td>\n",
       "      <td>tube</td>\n",
       "      <td>940GZZLUCYF</td>\n",
       "      <td>1</td>\n",
       "      <td>Eastbound - Platform 2</td>\n",
       "      <td>Canary Wharf Underground Station</td>\n",
       "      <td>2018-03-11T12:06:31Z</td>\n",
       "      <td>336</td>\n",
       "      <td>2018-03-11 12:00:55</td>\n",
       "      <td>{'$type': 'Tfl.Api.Presentation.Entities.Predi...</td>\n",
       "      <td>Stratford</td>\n",
       "      <td>315</td>\n",
       "    </tr>\n",
       "  </tbody>\n",
       "</table>\n",
       "</div>"
      ],
      "text/plain": [
       "                                               $type bearing  \\\n",
       "0  Tfl.Api.Presentation.Entities.Prediction, Tfl....           \n",
       "1  Tfl.Api.Presentation.Entities.Prediction, Tfl....           \n",
       "2  Tfl.Api.Presentation.Entities.Prediction, Tfl....           \n",
       "3  Tfl.Api.Presentation.Entities.Prediction, Tfl....           \n",
       "4  Tfl.Api.Presentation.Entities.Prediction, Tfl....           \n",
       "\n",
       "                        currentLocation                destinationName  \\\n",
       "0           At Finchley Road Platform 3  Stratford Underground Station   \n",
       "1             At Westminster Platform 3  Stratford Underground Station   \n",
       "2        Between Waterloo and Southwark  Stratford Underground Station   \n",
       "3  Between Baker Street and Bond Street  Stratford Underground Station   \n",
       "4                Approaching Bermondsey  Stratford Underground Station   \n",
       "\n",
       "  destinationNaptanId direction       expectedArrival          id   lineId  \\\n",
       "0         940GZZLUSTD  outbound  2018-03-11T12:27:30Z  1556401543  jubilee   \n",
       "1         940GZZLUSTD  outbound  2018-03-11T12:12:31Z   387308285  jubilee   \n",
       "2         940GZZLUSTD  outbound  2018-03-11T12:10:31Z   252642446  jubilee   \n",
       "3         940GZZLUSTD  outbound  2018-03-11T12:19:31Z -1034936892  jubilee   \n",
       "4         940GZZLUSTD  outbound  2018-03-11T12:06:31Z   251659406  jubilee   \n",
       "\n",
       "  lineName modeName     naptanId  operationType            platformName  \\\n",
       "0  Jubilee     tube  940GZZLUCYF              1  Eastbound - Platform 2   \n",
       "1  Jubilee     tube  940GZZLUCYF              1  Eastbound - Platform 2   \n",
       "2  Jubilee     tube  940GZZLUCYF              1  Eastbound - Platform 2   \n",
       "3  Jubilee     tube  940GZZLUCYF              1  Eastbound - Platform 2   \n",
       "4  Jubilee     tube  940GZZLUCYF              1  Eastbound - Platform 2   \n",
       "\n",
       "                        stationName            timeToLive  timeToStation  \\\n",
       "0  Canary Wharf Underground Station  2018-03-11T12:27:30Z           1595   \n",
       "1  Canary Wharf Underground Station  2018-03-11T12:12:31Z            696   \n",
       "2  Canary Wharf Underground Station  2018-03-11T12:10:31Z            576   \n",
       "3  Canary Wharf Underground Station  2018-03-11T12:19:31Z           1116   \n",
       "4  Canary Wharf Underground Station  2018-03-11T12:06:31Z            336   \n",
       "\n",
       "            timestamp                                             timing  \\\n",
       "0 2018-03-11 12:00:55  {'$type': 'Tfl.Api.Presentation.Entities.Predi...   \n",
       "1 2018-03-11 12:00:55  {'$type': 'Tfl.Api.Presentation.Entities.Predi...   \n",
       "2 2018-03-11 12:00:55  {'$type': 'Tfl.Api.Presentation.Entities.Predi...   \n",
       "3 2018-03-11 12:00:55  {'$type': 'Tfl.Api.Presentation.Entities.Predi...   \n",
       "4 2018-03-11 12:00:55  {'$type': 'Tfl.Api.Presentation.Entities.Predi...   \n",
       "\n",
       "     towards  vehicleId  \n",
       "0  Stratford        300  \n",
       "1  Stratford        302  \n",
       "2  Stratford        305  \n",
       "3  Stratford        307  \n",
       "4  Stratford        315  "
      ]
     },
     "execution_count": 24,
     "metadata": {},
     "output_type": "execute_result"
    }
   ],
   "source": [
    "Data.head()"
   ]
  },
  {
   "cell_type": "code",
   "execution_count": 217,
   "metadata": {},
   "outputs": [],
   "source": [
    "def canarywharf():\n",
    "    \n",
    "    _line = 'jubilee'\n",
    "    lineData = pd.read_json('https://api.tfl.gov.uk/Line/' + _line + '/Status?detail=true')\n",
    "    status = (pd.DataFrame(Data['lineStatuses'][0]).statusSeverityDescription)[0]\n",
    "    paragraph = '%s : %s\\n' % (_line, status)\n",
    "    \n",
    "    _station = '940GZZLUCYF'\n",
    "    stationData = pd.read_json('https://api.tfl.gov.uk/Line/jubilee/Arrivals/940GZZLUCYF?direction=inbound')\n",
    "    tab = stationData.sort_values('timeToStation').loc[:,['timeToStation', 'towards']]\n",
    "    for i in range(tab.shape[0]):\n",
    "        line = \"%.0fm%.0fs (%s)\\n\" % (tab.iloc[i,:].values[0]//60, tab.iloc[i,:].values[0]%60, tab.iloc[i,:].values[1])\n",
    "        paragraph += line\n",
    "    return(paragraph)"
   ]
  },
  {
   "cell_type": "code",
   "execution_count": 211,
   "metadata": {},
   "outputs": [],
   "source": [
    "stationData = pd.read_json('https://api.tfl.gov.uk/Line/jubilee/Arrivals/940GZZLUCYF?direction=inbound')"
   ]
  },
  {
   "cell_type": "code",
   "execution_count": 216,
   "metadata": {},
   "outputs": [
    {
     "data": {
      "text/html": [
       "<div>\n",
       "<style scoped>\n",
       "    .dataframe tbody tr th:only-of-type {\n",
       "        vertical-align: middle;\n",
       "    }\n",
       "\n",
       "    .dataframe tbody tr th {\n",
       "        vertical-align: top;\n",
       "    }\n",
       "\n",
       "    .dataframe thead th {\n",
       "        text-align: right;\n",
       "    }\n",
       "</style>\n",
       "<table border=\"1\" class=\"dataframe\">\n",
       "  <thead>\n",
       "    <tr style=\"text-align: right;\">\n",
       "      <th></th>\n",
       "      <th>timeToStation</th>\n",
       "      <th>towards</th>\n",
       "    </tr>\n",
       "  </thead>\n",
       "  <tbody>\n",
       "    <tr>\n",
       "      <th>1</th>\n",
       "      <td>516</td>\n",
       "      <td>Stanmore</td>\n",
       "    </tr>\n",
       "    <tr>\n",
       "      <th>0</th>\n",
       "      <td>576</td>\n",
       "      <td>Wembley Park</td>\n",
       "    </tr>\n",
       "  </tbody>\n",
       "</table>\n",
       "</div>"
      ],
      "text/plain": [
       "   timeToStation       towards\n",
       "1            516      Stanmore\n",
       "0            576  Wembley Park"
      ]
     },
     "execution_count": 216,
     "metadata": {},
     "output_type": "execute_result"
    }
   ],
   "source": [
    "stationData.sort_values('timeToStation').loc[:,['timeToStation', 'towards']]"
   ]
  },
  {
   "cell_type": "code",
   "execution_count": 218,
   "metadata": {},
   "outputs": [
    {
     "name": "stdout",
     "output_type": "stream",
     "text": [
      "jubilee : Good Service\n",
      "4m42s (Stanmore)\n",
      "6m42s (Wembley Park)\n",
      "\n"
     ]
    }
   ],
   "source": [
    "print(canarywharf())"
   ]
  },
  {
   "cell_type": "code",
   "execution_count": 210,
   "metadata": {},
   "outputs": [
    {
     "data": {
      "text/plain": [
       "'https://api.tfl.gov.uk/Line/jubilee/Status?detail=true'"
      ]
     },
     "execution_count": 210,
     "metadata": {},
     "output_type": "execute_result"
    }
   ],
   "source": [
    "'https://api.tfl.gov.uk/Line/' + _line + '/Status?detail=true'"
   ]
  },
  {
   "cell_type": "code",
   "execution_count": null,
   "metadata": {},
   "outputs": [],
   "source": []
  }
 ],
 "metadata": {
  "kernelspec": {
   "display_name": "Python 3",
   "language": "python",
   "name": "python3"
  },
  "language_info": {
   "codemirror_mode": {
    "name": "ipython",
    "version": 3
   },
   "file_extension": ".py",
   "mimetype": "text/x-python",
   "name": "python",
   "nbconvert_exporter": "python",
   "pygments_lexer": "ipython3",
   "version": "3.6.4"
  }
 },
 "nbformat": 4,
 "nbformat_minor": 2
}
